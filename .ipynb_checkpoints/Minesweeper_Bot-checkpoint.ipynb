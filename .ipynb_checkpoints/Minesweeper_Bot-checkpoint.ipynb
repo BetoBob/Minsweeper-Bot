{
 "cells": [
  {
   "cell_type": "markdown",
   "metadata": {},
   "source": [
    "# Minesweeper Bot\n",
    "\n",
    "* goal: get the high score on minesweeper using selenium\n",
    "* [target](http://minesweeperonline.com/)\n",
    "* [Selenium API](https://selenium-python.readthedocs.io/api.html)\n",
    "\n",
    "Strategy:\n",
    "* click middle square\n",
    "* scan entire grid for what's been added\n",
    "\n",
    "* get corner flags (next goal)\n",
    "    * 1 in the corner rule\n",
    "\n"
   ]
  },
  {
   "cell_type": "code",
   "execution_count": 86,
   "metadata": {},
   "outputs": [],
   "source": [
    "import numpy as np\n",
    "\n",
    "class square:\n",
    "  def __init__(self, kind = 'blank', score=0, complete = False):\n",
    "    self.kind = kind\n",
    "    self.score = score\n",
    "    self.complete = complete # all surrounding squares have been handled\n",
    "    self.neighbors = []\n",
    "    \n",
    "    # get some information about the neighbors (is it next to an active maybe)"
   ]
  },
  {
   "cell_type": "code",
   "execution_count": 87,
   "metadata": {},
   "outputs": [],
   "source": [
    "def scan(y, x):\n",
    "    xpath = '//*[@id=\"' + str(y+1) + '_' + str(x+1) + '\"]'\n",
    "    square_info = driver.find_element_by_xpath(xpath).get_attribute('class')\n",
    "    \n",
    "    if 'open' in square_info:\n",
    "        grid[y][x].kind = 'open'\n",
    "        grid[y][x].score = int(square_info.split(' ')[1][4:])   "
   ]
  },
  {
   "cell_type": "code",
   "execution_count": 88,
   "metadata": {},
   "outputs": [],
   "source": [
    "def full_scan():\n",
    "    \n",
    "    # scan everything\n",
    "    for dy in range(16):\n",
    "        for dx in range(30):\n",
    "            scan(dy, dx)"
   ]
  },
  {
   "cell_type": "code",
   "execution_count": 89,
   "metadata": {},
   "outputs": [],
   "source": [
    "def click_square(y, x):\n",
    "    xpath = '//*[@id=\"' + str(y+1) + '_' + str(x+1) + '\"]'\n",
    "    driver.find_element_by_xpath(xpath).click()\n",
    "    square_info = driver.find_element_by_xpath(xpath).get_attribute('class')\n",
    "    \n",
    "    # collect changed information\n",
    "    grid[y][x].kind = 'open'\n",
    "    grid[y][x].score = int(square_info.split(' ')[1][4:])\n",
    "    \n",
    "    full_scan()"
   ]
  },
  {
   "cell_type": "code",
   "execution_count": 90,
   "metadata": {},
   "outputs": [],
   "source": [
    "from selenium.webdriver import ActionChains\n",
    "\n",
    "def flag(y, x):\n",
    "    xpath = '//*[@id=\"' + str(y+1) + '_' + str(x+1) + '\"]'\n",
    "    flag_element = driver.find_element_by_xpath(xpath)\n",
    "    \n",
    "    action = ActionChains(driver)\n",
    "    action.context_click(flag_element).perform()\n",
    "    "
   ]
  },
  {
   "cell_type": "code",
   "execution_count": null,
   "metadata": {
    "scrolled": true
   },
   "outputs": [],
   "source": [
    "import numpy\n",
    "from selenium import webdriver\n",
    "\n",
    "# for the hard version\n",
    "# must use list comprehension or else every square object is replicated\n",
    "grid = np.array([[square('blank') for x in range(30)] for y in range(16)])\n",
    "\n",
    "# setup driver after data structures are created\n",
    "driver = webdriver.Chrome(\"./chromedriver\")\n",
    "driver.get(\"http://minesweeperonline.com/\")\n",
    "\n",
    "# choosing the middle element to explore fast\n",
    "# greater chance to get more nodes explored\n",
    "click_square(7, 14)\n"
   ]
  },
  {
   "cell_type": "code",
   "execution_count": null,
   "metadata": {},
   "outputs": [],
   "source": [
    "### one-corner check\n",
    "\n",
    "for dy in range(16):\n",
    "    for dx in range(30):\n",
    "        box = grid[dy][dx]\n",
    "        if box.score == 1:\n",
    "            if grid[dy+1][dx+1].kind == 'blank':\n",
    "                flag(dy+1, dx+1)"
   ]
  },
  {
   "cell_type": "code",
   "execution_count": 84,
   "metadata": {},
   "outputs": [],
   "source": [
    "# move to inside of function when done\n",
    "# outisde now to see screen after script halts\n",
    "\n",
    "driver.close()"
   ]
  },
  {
   "cell_type": "code",
   "execution_count": 9,
   "metadata": {},
   "outputs": [
    {
     "name": "stdout",
     "output_type": "stream",
     "text": [
      "0\n"
     ]
    }
   ],
   "source": [
    "print(grid[7][14].value)"
   ]
  },
  {
   "cell_type": "code",
   "execution_count": 58,
   "metadata": {},
   "outputs": [
    {
     "data": {
      "text/plain": [
       "'blank'"
      ]
     },
     "execution_count": 58,
     "metadata": {},
     "output_type": "execute_result"
    }
   ],
   "source": [
    "grid[0][0].kind"
   ]
  },
  {
   "cell_type": "code",
   "execution_count": null,
   "metadata": {},
   "outputs": [],
   "source": []
  }
 ],
 "metadata": {
  "kernelspec": {
   "display_name": "Python 3",
   "language": "python",
   "name": "python3"
  },
  "language_info": {
   "codemirror_mode": {
    "name": "ipython",
    "version": 3
   },
   "file_extension": ".py",
   "mimetype": "text/x-python",
   "name": "python",
   "nbconvert_exporter": "python",
   "pygments_lexer": "ipython3",
   "version": "3.7.6"
  }
 },
 "nbformat": 4,
 "nbformat_minor": 2
}
