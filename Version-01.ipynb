{
 "cells": [
  {
   "cell_type": "markdown",
   "metadata": {},
   "source": [
    "# First Solution\n",
    "\n",
    "![first win](img/first-win-03-16-21.png)\n",
    "\n",
    "## Future Improvements\n",
    "\n",
    "* make a queue of squares to check, skipping squares that are already completely accounted for (avoid needless checks)\n",
    "* there are some scenarios where the bot will have to guess\n",
    "* make the system grid size agnostic so it's easy to switch between versions\n",
    "* need a way to verify that the game is complete (instead of infite loop)"
   ]
  },
  {
   "cell_type": "code",
   "execution_count": 1,
   "metadata": {},
   "outputs": [],
   "source": [
    "def click_square(y, x):\n",
    "    \n",
    "    # click the coordinate\n",
    "    xpath = '//*[@id=\"' + str(y+1) + '_' + str(x+1) + '\"]'\n",
    "    driver.find_element_by_xpath(xpath).click()\n",
    "    square_info = driver.find_element_by_xpath(xpath).get_attribute('class')\n",
    "    \n",
    "    # collect changed information\n",
    "    grid[y][x]= int(square_info.split(' ')[1][4:])\n",
    "    \n",
    "    # update table information\n",
    "    full_scan(9, 9)"
   ]
  },
  {
   "cell_type": "markdown",
   "metadata": {},
   "source": [
    "## Scan Functions"
   ]
  },
  {
   "cell_type": "code",
   "execution_count": 2,
   "metadata": {},
   "outputs": [],
   "source": [
    "def scan(y, x):\n",
    "    xpath = '//*[@id=\"' + str(y+1) + '_' + str(x+1) + '\"]'\n",
    "    square_info = driver.find_element_by_xpath(xpath).get_attribute('class')\n",
    "    \n",
    "    if 'open' in square_info:\n",
    "        grid[y][x] = int(square_info.split(' ')[1][4:])   \n",
    "        \n",
    "    if 'flagged' in square_info:\n",
    "        grid[y][x] = 'f'"
   ]
  },
  {
   "cell_type": "code",
   "execution_count": 3,
   "metadata": {},
   "outputs": [],
   "source": [
    "def full_scan(h, w):\n",
    "    \n",
    "    # scan everything\n",
    "    for dy in range(h):\n",
    "        for dx in range(w):\n",
    "            scan(dy, dx)"
   ]
  },
  {
   "cell_type": "markdown",
   "metadata": {},
   "source": [
    "## Flag Functions\n",
    "\n",
    "### Goals\n",
    "\n",
    "1. Gather Neighbors of an open cell (non blank / non flagged)"
   ]
  },
  {
   "cell_type": "code",
   "execution_count": 4,
   "metadata": {},
   "outputs": [],
   "source": [
    "from selenium.webdriver import ActionChains\n",
    "\n",
    "def flag(y, x):\n",
    "    \n",
    "    # flag the coordinate\n",
    "    xpath = '//*[@id=\"' + str(y+1) + '_' + str(x+1) + '\"]'\n",
    "    flag_element = driver.find_element_by_xpath(xpath)\n",
    "    \n",
    "    action = ActionChains(driver)\n",
    "    action.context_click(flag_element).perform()\n",
    "    \n",
    "    # update table information\n",
    "    full_scan(9, 9)"
   ]
  },
  {
   "cell_type": "code",
   "execution_count": 5,
   "metadata": {},
   "outputs": [],
   "source": [
    "import itertools\n",
    "\n",
    "def gather_neighbors(y, x):\n",
    "    rows = []\n",
    "    cols = []\n",
    "    \n",
    "    score = grid[y][x]\n",
    "    \n",
    "    # check boundery constraints\n",
    "    if (y == 0):\n",
    "        rows = [0, 1]\n",
    "    elif (y == 8):\n",
    "        rows = [7, 8]\n",
    "    else:\n",
    "        rows = [y - 1, y, y + 1]\n",
    "        \n",
    "    if (x == 0):\n",
    "        cols = [0, 1]\n",
    "    elif (x == 8):\n",
    "        cols = [7, 8]\n",
    "    else:\n",
    "        cols = [x - 1, x, x + 1]\n",
    "    \n",
    "    neighbor_cords = list(itertools.product(rows, cols))\n",
    "    neighbor_cords.remove((y, x))\n",
    "    \n",
    "    if len(neighbor_cords) != 0:\n",
    "    \n",
    "        blanks = []\n",
    "\n",
    "        for (ny, nx) in neighbor_cords:\n",
    "            nbr = grid[ny][nx]\n",
    "            if nbr == '_':\n",
    "                blanks.append((ny, nx))\n",
    "            if nbr == 'f':\n",
    "                score -= 1\n",
    "\n",
    "        if score == len(blanks):\n",
    "            for (ny, nx) in blanks:\n",
    "                flag(ny, nx)\n",
    "\n",
    "        if score == 0:\n",
    "            for (ny, nx) in blanks:\n",
    "                click_square(ny, nx)"
   ]
  },
  {
   "cell_type": "code",
   "execution_count": 6,
   "metadata": {},
   "outputs": [],
   "source": [
    "def flag_check(y, x):\n",
    "    if isinstance(grid[y][x], int) and (grid[y][x] > 0):\n",
    "        gather_neighbors(y, x)"
   ]
  },
  {
   "cell_type": "code",
   "execution_count": 7,
   "metadata": {},
   "outputs": [],
   "source": [
    "def flag_scan(h, w):\n",
    "    for y in range(h):\n",
    "        for x in range(w):\n",
    "            flag_check(y, x)"
   ]
  },
  {
   "cell_type": "markdown",
   "metadata": {},
   "source": [
    "## Main Running Function"
   ]
  },
  {
   "cell_type": "code",
   "execution_count": 8,
   "metadata": {},
   "outputs": [
    {
     "ename": "KeyboardInterrupt",
     "evalue": "",
     "output_type": "error",
     "traceback": [
      "\u001b[1;31m---------------------------------------------------------------------------\u001b[0m",
      "\u001b[1;31mKeyboardInterrupt\u001b[0m                         Traceback (most recent call last)",
      "\u001b[1;32m<ipython-input-8-ee8ff48f3705>\u001b[0m in \u001b[0;36m<module>\u001b[1;34m\u001b[0m\n\u001b[0;32m     15\u001b[0m \u001b[1;33m\u001b[0m\u001b[0m\n\u001b[0;32m     16\u001b[0m \u001b[1;32mwhile\u001b[0m \u001b[1;33m(\u001b[0m\u001b[1;32mTrue\u001b[0m\u001b[1;33m)\u001b[0m\u001b[1;33m:\u001b[0m\u001b[1;33m\u001b[0m\u001b[1;33m\u001b[0m\u001b[0m\n\u001b[1;32m---> 17\u001b[1;33m     \u001b[0mflag_scan\u001b[0m\u001b[1;33m(\u001b[0m\u001b[1;36m8\u001b[0m\u001b[1;33m,\u001b[0m \u001b[1;36m8\u001b[0m\u001b[1;33m)\u001b[0m\u001b[1;33m\u001b[0m\u001b[1;33m\u001b[0m\u001b[0m\n\u001b[0m",
      "\u001b[1;32m<ipython-input-7-ab9c41d5928f>\u001b[0m in \u001b[0;36mflag_scan\u001b[1;34m(h, w)\u001b[0m\n\u001b[0;32m      2\u001b[0m     \u001b[1;32mfor\u001b[0m \u001b[0my\u001b[0m \u001b[1;32min\u001b[0m \u001b[0mrange\u001b[0m\u001b[1;33m(\u001b[0m\u001b[0mh\u001b[0m\u001b[1;33m)\u001b[0m\u001b[1;33m:\u001b[0m\u001b[1;33m\u001b[0m\u001b[1;33m\u001b[0m\u001b[0m\n\u001b[0;32m      3\u001b[0m         \u001b[1;32mfor\u001b[0m \u001b[0mx\u001b[0m \u001b[1;32min\u001b[0m \u001b[0mrange\u001b[0m\u001b[1;33m(\u001b[0m\u001b[0mw\u001b[0m\u001b[1;33m)\u001b[0m\u001b[1;33m:\u001b[0m\u001b[1;33m\u001b[0m\u001b[1;33m\u001b[0m\u001b[0m\n\u001b[1;32m----> 4\u001b[1;33m             \u001b[0mflag_check\u001b[0m\u001b[1;33m(\u001b[0m\u001b[0my\u001b[0m\u001b[1;33m,\u001b[0m \u001b[0mx\u001b[0m\u001b[1;33m)\u001b[0m\u001b[1;33m\u001b[0m\u001b[1;33m\u001b[0m\u001b[0m\n\u001b[0m",
      "\u001b[1;32m<ipython-input-6-c5a660160fbf>\u001b[0m in \u001b[0;36mflag_check\u001b[1;34m(y, x)\u001b[0m\n\u001b[0;32m      1\u001b[0m \u001b[1;32mdef\u001b[0m \u001b[0mflag_check\u001b[0m\u001b[1;33m(\u001b[0m\u001b[0my\u001b[0m\u001b[1;33m,\u001b[0m \u001b[0mx\u001b[0m\u001b[1;33m)\u001b[0m\u001b[1;33m:\u001b[0m\u001b[1;33m\u001b[0m\u001b[1;33m\u001b[0m\u001b[0m\n\u001b[0;32m      2\u001b[0m     \u001b[1;32mif\u001b[0m \u001b[0misinstance\u001b[0m\u001b[1;33m(\u001b[0m\u001b[0mgrid\u001b[0m\u001b[1;33m[\u001b[0m\u001b[0my\u001b[0m\u001b[1;33m]\u001b[0m\u001b[1;33m[\u001b[0m\u001b[0mx\u001b[0m\u001b[1;33m]\u001b[0m\u001b[1;33m,\u001b[0m \u001b[0mint\u001b[0m\u001b[1;33m)\u001b[0m \u001b[1;32mand\u001b[0m \u001b[1;33m(\u001b[0m\u001b[0mgrid\u001b[0m\u001b[1;33m[\u001b[0m\u001b[0my\u001b[0m\u001b[1;33m]\u001b[0m\u001b[1;33m[\u001b[0m\u001b[0mx\u001b[0m\u001b[1;33m]\u001b[0m \u001b[1;33m>\u001b[0m \u001b[1;36m0\u001b[0m\u001b[1;33m)\u001b[0m\u001b[1;33m:\u001b[0m\u001b[1;33m\u001b[0m\u001b[1;33m\u001b[0m\u001b[0m\n\u001b[1;32m----> 3\u001b[1;33m         \u001b[0mgather_neighbors\u001b[0m\u001b[1;33m(\u001b[0m\u001b[0my\u001b[0m\u001b[1;33m,\u001b[0m \u001b[0mx\u001b[0m\u001b[1;33m)\u001b[0m\u001b[1;33m\u001b[0m\u001b[1;33m\u001b[0m\u001b[0m\n\u001b[0m",
      "\u001b[1;32m<ipython-input-5-67d28dbf1d42>\u001b[0m in \u001b[0;36mgather_neighbors\u001b[1;34m(y, x)\u001b[0m\n\u001b[0;32m     30\u001b[0m \u001b[1;33m\u001b[0m\u001b[0m\n\u001b[0;32m     31\u001b[0m         \u001b[1;32mfor\u001b[0m \u001b[1;33m(\u001b[0m\u001b[0mny\u001b[0m\u001b[1;33m,\u001b[0m \u001b[0mnx\u001b[0m\u001b[1;33m)\u001b[0m \u001b[1;32min\u001b[0m \u001b[0mneighbor_cords\u001b[0m\u001b[1;33m:\u001b[0m\u001b[1;33m\u001b[0m\u001b[1;33m\u001b[0m\u001b[0m\n\u001b[1;32m---> 32\u001b[1;33m             \u001b[0mnbr\u001b[0m \u001b[1;33m=\u001b[0m \u001b[0mgrid\u001b[0m\u001b[1;33m[\u001b[0m\u001b[0mny\u001b[0m\u001b[1;33m]\u001b[0m\u001b[1;33m[\u001b[0m\u001b[0mnx\u001b[0m\u001b[1;33m]\u001b[0m\u001b[1;33m\u001b[0m\u001b[1;33m\u001b[0m\u001b[0m\n\u001b[0m\u001b[0;32m     33\u001b[0m             \u001b[1;32mif\u001b[0m \u001b[0mnbr\u001b[0m \u001b[1;33m==\u001b[0m \u001b[1;34m'_'\u001b[0m\u001b[1;33m:\u001b[0m\u001b[1;33m\u001b[0m\u001b[1;33m\u001b[0m\u001b[0m\n\u001b[0;32m     34\u001b[0m                 \u001b[0mblanks\u001b[0m\u001b[1;33m.\u001b[0m\u001b[0mappend\u001b[0m\u001b[1;33m(\u001b[0m\u001b[1;33m(\u001b[0m\u001b[0mny\u001b[0m\u001b[1;33m,\u001b[0m \u001b[0mnx\u001b[0m\u001b[1;33m)\u001b[0m\u001b[1;33m)\u001b[0m\u001b[1;33m\u001b[0m\u001b[1;33m\u001b[0m\u001b[0m\n",
      "\u001b[1;31mKeyboardInterrupt\u001b[0m: "
     ]
    }
   ],
   "source": [
    "\"\"\"\n",
    "This is the driver setup\n",
    "\"\"\"\n",
    "\n",
    "from selenium import webdriver\n",
    "\n",
    "grid = [['_' for x in range(9)] for y in range(9)]\n",
    "\n",
    "# setup driver after data structures are created\n",
    "driver = webdriver.Chrome(\"./chromedriver.exe\")\n",
    "driver.get(\"http://minesweeperonline.com/#beginner\")\n",
    "\n",
    "# start in the center\n",
    "click_square(4, 4)\n",
    "\n",
    "while (True):\n",
    "    flag_scan(8, 8)"
   ]
  },
  {
   "cell_type": "code",
   "execution_count": 170,
   "metadata": {},
   "outputs": [],
   "source": [
    "driver.close()"
   ]
  },
  {
   "cell_type": "markdown",
   "metadata": {},
   "source": [
    "## Print Grid"
   ]
  },
  {
   "cell_type": "code",
   "execution_count": 10,
   "metadata": {},
   "outputs": [],
   "source": [
    "def print_grid(h, w):\n",
    "    \n",
    "    line = \"-----\" * w\n",
    "    print(line)\n",
    "    \n",
    "    for dy in range(h):\n",
    "        contents = \"\"\n",
    "        for dx in range(w):\n",
    "            contents += \"| \"\n",
    "            contents += str(grid[dy][dx])\n",
    "            contents += \" |\"\n",
    "        print(contents)\n",
    "        print(line)"
   ]
  },
  {
   "cell_type": "code",
   "execution_count": 11,
   "metadata": {},
   "outputs": [
    {
     "name": "stdout",
     "output_type": "stream",
     "text": [
      "---------------------------------------------\n",
      "| _ || _ || _ || 3 || f || 1 || 0 || 1 || f |\n",
      "---------------------------------------------\n",
      "| _ || _ || _ || f || 2 || 1 || 0 || 1 || 1 |\n",
      "---------------------------------------------\n",
      "| _ || _ || _ || 3 || 1 || 0 || 0 || 0 || 0 |\n",
      "---------------------------------------------\n",
      "| _ || _ || _ || 1 || 0 || 0 || 0 || 0 || 0 |\n",
      "---------------------------------------------\n",
      "| _ || _ || _ || 1 || 0 || 0 || 0 || 0 || 0 |\n",
      "---------------------------------------------\n",
      "| _ || _ || _ || 1 || 0 || 0 || 0 || 0 || 0 |\n",
      "---------------------------------------------\n",
      "| _ || _ || _ || 2 || 0 || 0 || 0 || 0 || 0 |\n",
      "---------------------------------------------\n",
      "| _ || _ || _ || 2 || 0 || 0 || 0 || 0 || 0 |\n",
      "---------------------------------------------\n",
      "| _ || _ || _ || 2 || 0 || 0 || 0 || 0 || 0 |\n",
      "---------------------------------------------\n"
     ]
    }
   ],
   "source": [
    "print_grid(9, 9)"
   ]
  },
  {
   "cell_type": "code",
   "execution_count": null,
   "metadata": {},
   "outputs": [],
   "source": []
  }
 ],
 "metadata": {
  "kernelspec": {
   "display_name": "Python 3",
   "language": "python",
   "name": "python3"
  },
  "language_info": {
   "codemirror_mode": {
    "name": "ipython",
    "version": 3
   },
   "file_extension": ".py",
   "mimetype": "text/x-python",
   "name": "python",
   "nbconvert_exporter": "python",
   "pygments_lexer": "ipython3",
   "version": "3.7.6"
  }
 },
 "nbformat": 4,
 "nbformat_minor": 4
}
